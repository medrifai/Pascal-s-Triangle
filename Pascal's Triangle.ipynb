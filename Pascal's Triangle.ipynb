{
 "cells": [
  {
   "cell_type": "code",
   "execution_count": 34,
   "id": "a64dac35",
   "metadata": {},
   "outputs": [],
   "source": [
    "def generate(numRows):\n",
    "    L = []\n",
    "    \n",
    "    for i in range(numRows):\n",
    "        L.append([1] * (i + 1))\n",
    "\n",
    "    for j in range(2, numRows):\n",
    "        for i in range(1, len(L[j]) - 1):\n",
    "            L[j][i] = L[j-1][i-1] + L[j-1][i]\n",
    "    \n",
    "    return L"
   ]
  },
  {
   "cell_type": "code",
   "execution_count": 35,
   "id": "08bdc227",
   "metadata": {},
   "outputs": [
    {
     "data": {
      "text/plain": [
       "[[1], [1, 1], [1, 2, 1], [1, 3, 3, 1], [1, 4, 6, 4, 1], [1, 5, 10, 10, 5, 1]]"
      ]
     },
     "execution_count": 35,
     "metadata": {},
     "output_type": "execute_result"
    }
   ],
   "source": [
    "generate (6)"
   ]
  },
  {
   "cell_type": "code",
   "execution_count": null,
   "id": "5962c7f7",
   "metadata": {},
   "outputs": [],
   "source": []
  }
 ],
 "metadata": {
  "kernelspec": {
   "display_name": "Python 3 (ipykernel)",
   "language": "python",
   "name": "python3"
  },
  "language_info": {
   "codemirror_mode": {
    "name": "ipython",
    "version": 3
   },
   "file_extension": ".py",
   "mimetype": "text/x-python",
   "name": "python",
   "nbconvert_exporter": "python",
   "pygments_lexer": "ipython3",
   "version": "3.9.13"
  }
 },
 "nbformat": 4,
 "nbformat_minor": 5
}
